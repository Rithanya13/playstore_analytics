# Install & import
!pip install pandas numpy --quiet
import pandas as pd

# Load the dataset (manual upload)
from google.colab import files
uploaded = files.upload()  # choose googleplaystore.csv
df = pd.read_csv(next(iter(uploaded)))

# Quick check
df.head()
